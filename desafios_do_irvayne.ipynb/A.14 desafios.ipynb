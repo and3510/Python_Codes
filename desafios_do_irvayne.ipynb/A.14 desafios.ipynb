{
 "cells": [
  {
   "attachments": {},
   "cell_type": "markdown",
   "metadata": {},
   "source": [
    "\n",
    "Desafio 1"
   ]
  },
  {
   "cell_type": "code",
   "execution_count": null,
   "metadata": {},
   "outputs": [],
   "source": [
    "print(\"oi\")"
   ]
  },
  {
   "cell_type": "code",
   "execution_count": null,
   "metadata": {},
   "outputs": [],
   "source": []
  },
  {
   "cell_type": "code",
   "execution_count": null,
   "metadata": {},
   "outputs": [],
   "source": []
  },
  {
   "attachments": {},
   "cell_type": "markdown",
   "metadata": {},
   "source": [
    "Desafio 2"
   ]
  },
  {
   "attachments": {},
   "cell_type": "markdown",
   "metadata": {},
   "source": [
    "Desafio 4"
   ]
  },
  {
   "cell_type": "code",
   "execution_count": null,
   "metadata": {},
   "outputs": [
    {
     "ename": "",
     "evalue": "",
     "output_type": "error",
     "traceback": [
      "\u001b[1;31mRunning cells with 'Python 3.12.3' requires the ipykernel package.\n",
      "\u001b[1;31mRun the following command to install 'ipykernel' into the Python environment. \n",
      "\u001b[1;31mCommand: '/usr/bin/python3 -m pip install ipykernel -U --user --force-reinstall'"
     ]
    }
   ],
   "source": [
    "u=153\n",
    "r=0\n",
    "s=0\n",
    "\n",
    "while \n"
   ]
  },
  {
   "cell_type": "code",
   "execution_count": null,
   "metadata": {},
   "outputs": [],
   "source": [
    "b=int(input())\n",
    "\n",
    "while "
   ]
  },
  {
   "attachments": {},
   "cell_type": "markdown",
   "metadata": {},
   "source": [
    "Desafio 5"
   ]
  },
  {
   "cell_type": "code",
   "execution_count": null,
   "metadata": {},
   "outputs": [],
   "source": [
    "h=int(input())\n",
    "s=0\n",
    "while h>0:\n",
    "     k=h%10\n",
    "     s=s+k\n",
    "     h=h//10\n",
    "     print(k)\n",
    "print(s)     "
   ]
  },
  {
   "attachments": {},
   "cell_type": "markdown",
   "metadata": {},
   "source": [
    "Desafio 6"
   ]
  },
  {
   "cell_type": "code",
   "execution_count": null,
   "metadata": {},
   "outputs": [],
   "source": [
    "v=0\n",
    "vw=0\n",
    "vl=0\n",
    "vb=0\n",
    "vn=0\n",
    "while v!=99:\n",
    "    v=int(input('digite o seu voto: \\n'\n",
    "                  'lula - 13 \\n'\n",
    "                  'Bolsonaro - 22 \\n'\n",
    "                  'voto nulo - -1 \\n' \n",
    "                  'voto branco - 0 \\n'  \n",
    "                  'finalizar a votaçao'))                \n",
    "    if v==13:    \n",
    "       vl=vl+1\n",
    "       print('voce votou no lula')\n",
    "    elif v==22:\n",
    "        vb=vb+1\n",
    "        print('voce votou no bolsonaro')\n",
    "    elif v==-1:\n",
    "        vn=vn+1\n",
    "        print('voce votou nulo')\n",
    "    elif v==0:\n",
    "        vw=vw+1\n",
    "        print('voce votou em branco')\n",
    "    elif v==99:\n",
    "         break  \n",
    "vt=vn+vb+vw+vl   \n",
    "print('porcetagem de votos nulos',(vn/vt)*100,'%')\n",
    "print('porcetagem de votos brancos',(vb/vt)*100,'%')    \n",
    "\n",
    "print('Quantidade de votos do lula:',vl)\n",
    "print('Quantidade de votos do bolsonaro',vb)\n",
    "\n",
    "if vb>vl:\n",
    "    print('bolsonaro venceu')\n",
    "elif vb==vl:\n",
    "    print('emparte')\n",
    "else:\n",
    "    print('lula venceu')    \n",
    "      \n",
    "\n",
    "\n",
    "\n",
    "\n"
   ]
  },
  {
   "attachments": {},
   "cell_type": "markdown",
   "metadata": {},
   "source": [
    "Desafio 2"
   ]
  },
  {
   "cell_type": "code",
   "execution_count": null,
   "metadata": {},
   "outputs": [],
   "source": [
    "y=int(input())\n",
    "var=0\n",
    "while y>0:\n",
    "    r=y%10\n",
    "    var=var*10+r\n",
    "    y=y//10\n",
    "print(var)"
   ]
  },
  {
   "attachments": {},
   "cell_type": "markdown",
   "metadata": {},
   "source": [
    "Desafio 8"
   ]
  },
  {
   "cell_type": "code",
   "execution_count": null,
   "metadata": {},
   "outputs": [],
   "source": [
    "num=int(input())\n",
    "com=int(input())\n",
    "fim=int(input())\n",
    "\n",
    "while com<=fim:\n",
    "     print(num,'*',com,'=',num*com) \n",
    "     com+= 1\n",
    "\n"
   ]
  },
  {
   "attachments": {},
   "cell_type": "markdown",
   "metadata": {},
   "source": [
    "Desafio 5"
   ]
  },
  {
   "cell_type": "code",
   "execution_count": null,
   "metadata": {},
   "outputs": [],
   "source": [
    "p=153\n",
    "x=0\n",
    "while p>0:\n",
    "    m=p%10\n",
    "    x=x*10+m\n",
    "    d=153//10\n",
    "    d=p\n",
    "    print(x)    \n",
    "\n"
   ]
  },
  {
   "attachments": {},
   "cell_type": "markdown",
   "metadata": {},
   "source": [
    "Desafio 7"
   ]
  },
  {
   "cell_type": "code",
   "execution_count": null,
   "metadata": {},
   "outputs": [],
   "source": [
    "o=int(input())\n",
    "m=0\n",
    "while o!=-1:\n",
    "    if o>m:\n",
    "        m=o\n",
    "    else:\n",
    "        o=int(input())  \n",
    "print(m)          \n",
    "    \n"
   ]
  },
  {
   "attachments": {},
   "cell_type": "markdown",
   "metadata": {},
   "source": [
    "Desafio 9"
   ]
  },
  {
   "cell_type": "code",
   "execution_count": null,
   "metadata": {},
   "outputs": [],
   "source": [
    "a=0\n",
    "c=0\n",
    "r=0\n",
    "while a!=-1:\n",
    "   a=int(input('digite o codigo da cobaia: '))\n",
    "   if a==1:\n",
    "      c=c+1\n",
    "   elif a==2:\n",
    "      r=r+1  \n",
    "   elif a==-1:\n",
    "      break  \n",
    "t=c+r\n",
    "print('total de coelhos sao',c)  \n",
    "print('total de ratos sao',r)  \n",
    "print('total de cobaias sao',t)\n",
    "print('percentual de coelhos sao',c/t*100,'%')\n",
    "print('percentual de ratos sao',r/t*100,'%')\n"
   ]
  },
  {
   "attachments": {},
   "cell_type": "markdown",
   "metadata": {},
   "source": [
    "Desafio x"
   ]
  },
  {
   "cell_type": "code",
   "execution_count": 12,
   "metadata": {},
   "outputs": [
    {
     "name": "stdout",
     "output_type": "stream",
     "text": [
      "tabuada de 1\n",
      "1 * 1 = 1\n",
      "1 * 2 = 2\n",
      "1 * 3 = 3\n",
      "1 * 4 = 4\n",
      "1 * 5 = 5\n",
      "1 * 6 = 6\n",
      "1 * 7 = 7\n",
      "1 * 8 = 8\n",
      "1 * 9 = 9\n",
      "1 * 10 = 10\n",
      "tabuada de 2\n",
      "2 * 1 = 2\n",
      "2 * 2 = 4\n",
      "2 * 3 = 6\n",
      "2 * 4 = 8\n",
      "2 * 5 = 10\n",
      "2 * 6 = 12\n",
      "2 * 7 = 14\n",
      "2 * 8 = 16\n",
      "2 * 9 = 18\n",
      "2 * 10 = 20\n",
      "tabuada de 3\n",
      "3 * 1 = 3\n",
      "3 * 2 = 6\n",
      "3 * 3 = 9\n",
      "3 * 4 = 12\n",
      "3 * 5 = 15\n",
      "3 * 6 = 18\n",
      "3 * 7 = 21\n",
      "3 * 8 = 24\n",
      "3 * 9 = 27\n",
      "3 * 10 = 30\n",
      "tabuada de 4\n",
      "4 * 1 = 4\n",
      "4 * 2 = 8\n",
      "4 * 3 = 12\n",
      "4 * 4 = 16\n",
      "4 * 5 = 20\n",
      "4 * 6 = 24\n",
      "4 * 7 = 28\n",
      "4 * 8 = 32\n",
      "4 * 9 = 36\n",
      "4 * 10 = 40\n",
      "tabuada de 5\n",
      "5 * 1 = 5\n",
      "5 * 2 = 10\n",
      "5 * 3 = 15\n",
      "5 * 4 = 20\n",
      "5 * 5 = 25\n",
      "5 * 6 = 30\n",
      "5 * 7 = 35\n",
      "5 * 8 = 40\n",
      "5 * 9 = 45\n",
      "5 * 10 = 50\n",
      "tabuada de 6\n",
      "6 * 1 = 6\n",
      "6 * 2 = 12\n",
      "6 * 3 = 18\n",
      "6 * 4 = 24\n",
      "6 * 5 = 30\n",
      "6 * 6 = 36\n",
      "6 * 7 = 42\n",
      "6 * 8 = 48\n",
      "6 * 9 = 54\n",
      "6 * 10 = 60\n",
      "tabuada de 7\n",
      "7 * 1 = 7\n",
      "7 * 2 = 14\n",
      "7 * 3 = 21\n",
      "7 * 4 = 28\n",
      "7 * 5 = 35\n",
      "7 * 6 = 42\n",
      "7 * 7 = 49\n",
      "7 * 8 = 56\n",
      "7 * 9 = 63\n",
      "7 * 10 = 70\n",
      "tabuada de 8\n",
      "8 * 1 = 8\n",
      "8 * 2 = 16\n",
      "8 * 3 = 24\n",
      "8 * 4 = 32\n",
      "8 * 5 = 40\n",
      "8 * 6 = 48\n",
      "8 * 7 = 56\n",
      "8 * 8 = 64\n",
      "8 * 9 = 72\n",
      "8 * 10 = 80\n",
      "tabuada de 9\n",
      "9 * 1 = 9\n",
      "9 * 2 = 18\n",
      "9 * 3 = 27\n",
      "9 * 4 = 36\n",
      "9 * 5 = 45\n",
      "9 * 6 = 54\n",
      "9 * 7 = 63\n",
      "9 * 8 = 72\n",
      "9 * 9 = 81\n",
      "9 * 10 = 90\n",
      "tabuada de 10\n",
      "10 * 1 = 10\n",
      "10 * 2 = 20\n",
      "10 * 3 = 30\n",
      "10 * 4 = 40\n",
      "10 * 5 = 50\n",
      "10 * 6 = 60\n",
      "10 * 7 = 70\n",
      "10 * 8 = 80\n",
      "10 * 9 = 90\n",
      "10 * 10 = 100\n"
     ]
    }
   ],
   "source": [
    "m1=1\n",
    "while m1<=10:\n",
    "    m2=1\n",
    "    print('tabuada de',m1)\n",
    "    while m2<=10:\n",
    "     print(m1,'*',m2,'=',m1*m2)  \n",
    "     m2=m2+1\n",
    "    m1=m1+1  "
   ]
  },
  {
   "attachments": {},
   "cell_type": "markdown",
   "metadata": {},
   "source": [
    "Desafio 18 , end=' '\n"
   ]
  },
  {
   "cell_type": "code",
   "execution_count": 16,
   "metadata": {},
   "outputs": [
    {
     "name": "stdout",
     "output_type": "stream",
     "text": [
      "1 \n",
      "1 \n",
      "1 \n",
      "1 \n",
      "1 \n",
      "1 \n"
     ]
    }
   ],
   "source": [
    "num=int(input())\n",
    "con=0\n",
    "while con<=num:\n",
    "    pos=1\n",
    "    while pos<=con:\n",
    "        print('1', end='')\n",
    "        print(' ')\n",
    "        pos=pos+1\n",
    "    con=con+1    "
   ]
  }
 ],
 "metadata": {
  "kernelspec": {
   "display_name": "Python 3",
   "language": "python",
   "name": "python3"
  },
  "language_info": {
   "codemirror_mode": {
    "name": "ipython",
    "version": 3
   },
   "file_extension": ".py",
   "mimetype": "text/x-python",
   "name": "python",
   "nbconvert_exporter": "python",
   "pygments_lexer": "ipython3",
   "version": "3.12.3"
  },
  "orig_nbformat": 4
 },
 "nbformat": 4,
 "nbformat_minor": 2
}
