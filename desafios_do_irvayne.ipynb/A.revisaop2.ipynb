{
 "cells": [
  {
   "attachments": {},
   "cell_type": "markdown",
   "metadata": {},
   "source": [
    "Exe: 1"
   ]
  },
  {
   "cell_type": "code",
   "execution_count": null,
   "metadata": {},
   "outputs": [],
   "source": [
    "\n",
    "def numero(l):\n",
    "    b=0\n",
    "    c=1\n",
    "    for g in range (1,l+1,1):\n",
    "        b+=1\n",
    "        b=str(b)\n",
    "        f=c*b\n",
    "        print(f)\n",
    "        c+=1\n",
    "        b=int(b)\n",
    "\n",
    "\n",
    "\n",
    "l=int(input())\n",
    "numero(l)\n",
    "\n"
   ]
  },
  {
   "attachments": {},
   "cell_type": "markdown",
   "metadata": {},
   "source": [
    "Exe: 2"
   ]
  },
  {
   "cell_type": "code",
   "execution_count": null,
   "metadata": {},
   "outputs": [],
   "source": [
    "def num(h):\n",
    "    for k in range (1,h+1,1):\n",
    "        for g in range (1,k+1):\n",
    "            print(g, end=' ')\n",
    "        print()\n",
    "            \n",
    "\n",
    "\n",
    "num(h=int(input()))\n",
    "\n"
   ]
  },
  {
   "attachments": {},
   "cell_type": "markdown",
   "metadata": {},
   "source": [
    "Exe: 3"
   ]
  },
  {
   "cell_type": "code",
   "execution_count": null,
   "metadata": {},
   "outputs": [],
   "source": []
  },
  {
   "attachments": {},
   "cell_type": "markdown",
   "metadata": {},
   "source": [
    "Exe: 4"
   ]
  },
  {
   "cell_type": "code",
   "execution_count": null,
   "metadata": {},
   "outputs": [],
   "source": [
    "def soma(a):\n",
    "    if a>0:\n",
    "      return 'p'\n",
    "      \n",
    "    else:\n",
    "       return 'n'\n",
    "       \n",
    "    \n",
    "    \n",
    "soma(a=int(input()))"
   ]
  },
  {
   "attachments": {},
   "cell_type": "markdown",
   "metadata": {},
   "source": [
    "Exe: 5"
   ]
  },
  {
   "cell_type": "code",
   "execution_count": null,
   "metadata": {},
   "outputs": [],
   "source": [
    "def somaImposto(t,c):\n",
    "    p=c*t\n",
    "    c=p+c\n",
    "    print(c)\n",
    "\n",
    "somaImposto(25/100,100)\n"
   ]
  },
  {
   "attachments": {},
   "cell_type": "markdown",
   "metadata": {},
   "source": [
    "Exe: 6"
   ]
  },
  {
   "cell_type": "code",
   "execution_count": null,
   "metadata": {},
   "outputs": [],
   "source": [
    "def tipo(g):\n",
    "    if g=='A':\n",
    "        print('A.M')\n",
    "    elif g=='P':\n",
    "        print('P.M')\n",
    "\n",
    "\n",
    "def horario(a,b):\n",
    "    if 13<=a<=24 :\n",
    "        f=a-12\n",
    "        a=f\n",
    "    print('{}:{}'.format(a,b))\n",
    "    \n",
    "tipo(g=str(input()))\n",
    "p=[]\n",
    "for x in range(1,3,1):\n",
    "    p.append(int(input()))\n",
    "    print(p)\n",
    "\n",
    "ç=p[0]\n",
    "r=p[1]\n",
    "\n",
    "horario(ç,r)\n",
    "\n"
   ]
  },
  {
   "attachments": {},
   "cell_type": "markdown",
   "metadata": {},
   "source": [
    "Exe: 7"
   ]
  },
  {
   "cell_type": "code",
   "execution_count": null,
   "metadata": {},
   "outputs": [],
   "source": [
    "\n",
    "def valorPagamento(valor,dias_atraso):\n",
    "    if dias_atraso == 0:\n",
    "        return valor\n",
    "    else:\n",
    "        multa = valor * 0.03\n",
    "        juros = valor * (0.001 * dias_atraso)\n",
    "        return valor + multa + juros\n",
    "        \n",
    "\n",
    "\n",
    "total=0\n",
    "pagas=0\n",
    "\n",
    "while True:\n",
    "    prestaçao=int(input())\n",
    "    if prestaçao==0:\n",
    "        break\n",
    "    dias_atraso=int(input())\n",
    "\n",
    "    valor_apagar=valorPagamento(prestaçao,dias_atraso)\n",
    "\n",
    "    print('valor a pagar é',valor_apagar)\n",
    "\n",
    "    pagas+=1\n",
    "    total+=valor_apagar\n",
    "\n",
    "    print('relatorio')\n",
    "    print(pagas)\n",
    "    print(total)\n",
    "\n",
    "\n",
    "  "
   ]
  },
  {
   "attachments": {},
   "cell_type": "markdown",
   "metadata": {},
   "source": [
    "Exe: 8"
   ]
  },
  {
   "cell_type": "code",
   "execution_count": null,
   "metadata": {},
   "outputs": [],
   "source": [
    "def num(a):\n",
    "    a=str(a)\n",
    "    print(len(a),'digitos')\n",
    "\n",
    "num(a=int(input()))\n"
   ]
  },
  {
   "attachments": {},
   "cell_type": "markdown",
   "metadata": {},
   "source": [
    "Exe: 9"
   ]
  },
  {
   "cell_type": "code",
   "execution_count": null,
   "metadata": {},
   "outputs": [],
   "source": [
    "def num(o):\n",
    "    o=str(o)\n",
    "    o=o[::-1]\n",
    "    o=int(o)\n",
    "    print(o)\n",
    "    \n",
    "       \n",
    "num(o=int(input()))\n",
    "\n",
    "\n",
    "\n"
   ]
  },
  {
   "attachments": {},
   "cell_type": "markdown",
   "metadata": {},
   "source": [
    "Exe: 10"
   ]
  },
  {
   "cell_type": "code",
   "execution_count": null,
   "metadata": {},
   "outputs": [],
   "source": [
    "import random\n",
    "\n",
    "def d1(a):\n",
    "    j1=0\n",
    "    if a==7 or a==11:\n",
    "        print(a)\n",
    "        print('ganhou!')\n",
    "        return 'natural'\n",
    "    elif a==2 or a==3 or a==12:\n",
    "        print(a)\n",
    "        print('perdeu')\n",
    "        return 'craps'\n",
    "    elif a==4 or a==5 or a==6 or a==8 or a==9 or a==10:\n",
    "        print(a)\n",
    "        print('esse é seu ponto')\n",
    "        while True:\n",
    "            h=random.randint(4,10)\n",
    "            if h==a :\n",
    "                print(a)\n",
    "                print('ganhou')\n",
    "                break\n",
    "            elif h==7:\n",
    "                print(7)\n",
    "                print('perdeu')\n",
    "                break\n",
    "            else:\n",
    "                print(h)\n",
    "                print('tenta de novo')\n",
    "\n",
    "d1(a=random.randint(2,12))\n",
    "\n",
    "\n",
    "\n",
    "\n",
    "\n",
    "\n"
   ]
  },
  {
   "attachments": {},
   "cell_type": "markdown",
   "metadata": {},
   "source": [
    "Exe: 12"
   ]
  },
  {
   "cell_type": "code",
   "execution_count": null,
   "metadata": {},
   "outputs": [],
   "source": [
    "def valor_pagamento(a,b):\n",
    "    if b==0:\n",
    "        return a\n",
    "    else:\n",
    "        f=a*0.03\n",
    "        g=a*(0.001*b)\n",
    "        v=a+g+f\n",
    "        return v\n",
    "r=0\n",
    "ç=0\n",
    "while True:\n",
    "    q=float(input())\n",
    "\n",
    "    if q==0:\n",
    "        break\n",
    "\n",
    "    z=int(input())\n",
    "\n",
    "    c=valor_pagamento(q,z)\n",
    "    r+=1\n",
    "    ç+=c\n",
    "\n",
    "print(r)\n",
    "print(ç)\n",
    "\n"
   ]
  },
  {
   "attachments": {},
   "cell_type": "markdown",
   "metadata": {},
   "source": [
    "Exe: 11"
   ]
  },
  {
   "cell_type": "code",
   "execution_count": null,
   "metadata": {},
   "outputs": [],
   "source": [
    "import random\n",
    "def letra(anderson):\n",
    "        print(anderson)\n",
    "        b=list(anderson)\n",
    "        print(b)\n",
    "        random.shuffle(b)\n",
    "        print(b)\n",
    "        cv=''.join(b)\n",
    "        print(cv)\n",
    "\n",
    "    \n",
    "\n",
    "    \n",
    "letra(anderson=input())"
   ]
  },
  {
   "attachments": {},
   "cell_type": "markdown",
   "metadata": {},
   "source": [
    "Exe: 12"
   ]
  },
  {
   "cell_type": "code",
   "execution_count": 1,
   "metadata": {},
   "outputs": [
    {
     "name": "stdout",
     "output_type": "stream",
     "text": [
      "------------------------------\n",
      "|                            |\n",
      "|                            |\n",
      "|                            |\n",
      "|                            |\n",
      "|                            |\n",
      "|                            |\n",
      "|                            |\n",
      "|                            |\n",
      "|                            |\n",
      "|                            |\n",
      "|                            |\n",
      "|                            |\n",
      "|                            |\n",
      "|                            |\n",
      "|                            |\n",
      "|                            |\n",
      "|                            |\n",
      "|                            |\n",
      "|                            |\n",
      "|                            |\n",
      "|                            |\n",
      "|                            |\n",
      "|                            |\n",
      "|                            |\n",
      "|                            |\n",
      "|                            |\n",
      "|                            |\n",
      "|                            |\n",
      "------------------------------\n"
     ]
    }
   ],
   "source": [
    "def construçao(a):\n",
    "    print('-' * a)\n",
    "    for i in range(a-2):\n",
    "        print('|'+ (' '*(a-2)) +'|')\n",
    "    print('-' * a)\n",
    "\n",
    "a=int(input())\n",
    "construçao(a)"
   ]
  },
  {
   "cell_type": "markdown",
   "metadata": {},
   "source": []
  }
 ],
 "metadata": {
  "kernelspec": {
   "display_name": "Python 3",
   "language": "python",
   "name": "python3"
  },
  "language_info": {
   "codemirror_mode": {
    "name": "ipython",
    "version": 3
   },
   "file_extension": ".py",
   "mimetype": "text/x-python",
   "name": "python",
   "nbconvert_exporter": "python",
   "pygments_lexer": "ipython3",
   "version": "3.11.4"
  },
  "orig_nbformat": 4
 },
 "nbformat": 4,
 "nbformat_minor": 2
}
