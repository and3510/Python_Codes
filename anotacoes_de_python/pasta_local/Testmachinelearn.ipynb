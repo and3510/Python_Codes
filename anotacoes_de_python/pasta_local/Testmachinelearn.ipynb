{
 "cells": [
  {
   "cell_type": "code",
   "execution_count": null,
   "metadata": {},
   "outputs": [],
   "source": [
    "\n",
    "# lavou\n",
    "# limpou\n",
    "# esterelizou\n",
    "\n",
    "pessoa1 = [0,0,1]\n",
    "pessoa2 = [1,1,0]\n",
    "pessoa3 = [1,1,1]\n",
    "pessoa4 = [1,0,1]\n",
    "pessoa5 = [0,0,0]\n",
    "pessoa6 = [0,1,1]\n",
    "\n",
    "treino = [pessoa1,pessoa2,pessoa3,pessoa4,pessoa5,pessoa6]\n",
    "classificaçoes = [1,0,1,1,0,1]\n",
    "\n"
   ]
  },
  {
   "cell_type": "code",
   "execution_count": 3,
   "metadata": {},
   "outputs": [
    {
     "ename": "ModuleNotFoundError",
     "evalue": "No module named 'sklearn'",
     "output_type": "error",
     "traceback": [
      "\u001b[0;31m---------------------------------------------------------------------------\u001b[0m",
      "\u001b[0;31mModuleNotFoundError\u001b[0m                       Traceback (most recent call last)",
      "Cell \u001b[0;32mIn[3], line 1\u001b[0m\n\u001b[0;32m----> 1\u001b[0m \u001b[39mfrom\u001b[39;00m \u001b[39msklearn\u001b[39;00m\u001b[39m.\u001b[39;00m\u001b[39msvm\u001b[39;00m \u001b[39mimport\u001b[39;00m LinearSVC\n\u001b[1;32m      3\u001b[0m modelo \u001b[39m=\u001b[39m LinearSVC()\n\u001b[1;32m      4\u001b[0m modelo\u001b[39m.\u001b[39mfit(treino, classificaçoes)\n",
      "\u001b[0;31mModuleNotFoundError\u001b[0m: No module named 'sklearn'"
     ]
    }
   ],
   "source": [
    "from sklearn.svm import LinearSVC\n",
    "\n",
    "modelo = LinearSVC()\n",
    "modelo.fit(treino, classificaçoes)\n",
    "\n"
   ]
  }
 ],
 "metadata": {
  "kernelspec": {
   "display_name": "Python 3",
   "language": "python",
   "name": "python3"
  },
  "language_info": {
   "codemirror_mode": {
    "name": "ipython",
    "version": 3
   },
   "file_extension": ".py",
   "mimetype": "text/x-python",
   "name": "python",
   "nbconvert_exporter": "python",
   "pygments_lexer": "ipython3",
   "version": "3.8.10"
  },
  "orig_nbformat": 4
 },
 "nbformat": 4,
 "nbformat_minor": 2
}
