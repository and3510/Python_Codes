{
 "cells": [
  {
   "cell_type": "code",
   "execution_count": null,
   "metadata": {},
   "outputs": [],
   "source": [
    "\n",
    "i=100\n",
    "f=200\n",
    "q=0\n",
    "while i<=f:\n",
    "    if i%2==0:\n",
    "        q=q+1\n",
    "    i=i+1    \n",
    "print(q)        "
   ]
  },
  {
   "cell_type": "code",
   "execution_count": null,
   "metadata": {},
   "outputs": [],
   "source": [
    "i=input(int('digite o numero inicial:'))\n",
    "f=input(int('digite o numero final:'))\n",
    "q=0\n",
    "while i<=f:\n",
    "    if i%2==0:\n",
    "        q=q+1\n",
    "    i=i+1    \n",
    "print(q)"
   ]
  },
  {
   "cell_type": "code",
   "execution_count": null,
   "metadata": {},
   "outputs": [],
   "source": [
    "a=int(input('digite um numero:'))\n",
    "f1=1\n",
    "f0=0\n",
    "i=2\n",
    "v=0\n",
    "if a==0:\n",
    "    print('0')\n",
    "elif a==1:\n",
    "    print('1')   \n",
    "else:\n",
    "     while i <= a:\n",
    "           v=f1+f0\n",
    "           f0=f1\n",
    "           f1=v\n",
    "           i=i+1\n",
    "print(v)           \n",
    "\n",
    "\n",
    "\n",
    "          \n",
    "        \n"
   ]
  },
  {
   "cell_type": "code",
   "execution_count": null,
   "metadata": {},
   "outputs": [],
   "source": [
    "x=int(input())\n",
    "\n",
    "while x>100:\n",
    "      print(x)\n",
    "      x=x+1"
   ]
  },
  {
   "cell_type": "code",
   "execution_count": null,
   "metadata": {},
   "outputs": [],
   "source": [
    "a=float(input())\n",
    "c=float(input())\n",
    "b=float(input())\n",
    "n=1\n",
    "s=0\n",
    "while s<=1000:\n",
    "    p=a*(b/100)\n",
    "    s=s+p\n",
    "    n=n+1\n",
    "    a=a+c\n",
    "    print(s)\n",
    "print(s,n)    "
   ]
  },
  {
   "cell_type": "code",
   "execution_count": null,
   "metadata": {},
   "outputs": [],
   "source": [
    "s=0\n",
    "n=1\n",
    "m=0\n",
    "while True:\n",
    "    v=int(input('Digite um valor:'))\n",
    "    if v==0:\n",
    "        break\n",
    "    else:\n",
    "        s=s+v\n",
    "        n=n+1\n",
    "        m=s/n\n",
    "print(s,n,m)"
   ]
  },
  {
   "cell_type": "code",
   "execution_count": null,
   "metadata": {},
   "outputs": [],
   "source": [
    "s=0\n",
    "n=0\n",
    "while True:\n",
    "    c=int(input('Digite um codigo:'))\n",
    "    if c==0:\n",
    "        break\n",
    "    elif c==1:\n",
    "        s=s+0.5\n",
    "        n+=1\n",
    "    elif c==2:\n",
    "        s=s+1\n",
    "        n+=1\n",
    "    elif c==3:\n",
    "        s=s+4\n",
    "        n+=1\n",
    "    elif c==5:\n",
    "        s=s+7\n",
    "        n+=1\n",
    "    elif c==9:\n",
    "        s=s+8\n",
    "        n+=1\n",
    "    else:\n",
    "        break\n",
    "        print('codigo invalido')\n",
    "print(s,n)"
   ]
  },
  {
   "cell_type": "code",
   "execution_count": null,
   "metadata": {},
   "outputs": [],
   "source": [
    "m=0\n",
    "while True:\n",
    "    v=int(input())\n",
    "    if v==-1:\n",
    "        break\n",
    "    elif v>=m:\n",
    "        m=v\n",
    "print(m)\n",
    "        \n"
   ]
  },
  {
   "cell_type": "code",
   "execution_count": null,
   "metadata": {},
   "outputs": [],
   "source": [
    "\n",
    "\n",
    "\n",
    "s=0\n",
    "while True:\n",
    "    c=str(input())\n",
    "    a=int(input())\n",
    "    b=int(input())\n",
    "\n",
    "    if c=='s':\n",
    "        s=s+(a+b)\n",
    "    elif c=='e':\n",
    "        s=s+(a-b)\n",
    "    elif c=='m':\n",
    "        s=s+(a*b)\n",
    "    elif c=='d':\n",
    "        s=s+(a/b)\n",
    "    elif c=='l':\n",
    "        break\n",
    "print(s)\n",
    "    \n",
    "\n",
    "\n"
   ]
  },
  {
   "cell_type": "code",
   "execution_count": 4,
   "metadata": {},
   "outputs": [
    {
     "name": "stdout",
     "output_type": "stream",
     "text": [
      "5 0\n"
     ]
    }
   ],
   "source": [
    "s=0\n",
    "i=0\n",
    "p=0\n",
    "v=0\n",
    "while v!=-1:\n",
    "    v=int(input())\n",
    "    if v%2==0:\n",
    "        p=p+(v//2)\n",
    "    elif v%2!=0:\n",
    "        i=i+((v//2)+1)  \n",
    "print(p,i)   \n"
   ]
  },
  {
   "cell_type": "code",
   "execution_count": null,
   "metadata": {},
   "outputs": [],
   "source": []
  }
 ],
 "metadata": {
  "kernelspec": {
   "display_name": "Python 3",
   "language": "python",
   "name": "python3"
  },
  "language_info": {
   "codemirror_mode": {
    "name": "ipython",
    "version": 3
   },
   "file_extension": ".py",
   "mimetype": "text/x-python",
   "name": "python",
   "nbconvert_exporter": "python",
   "pygments_lexer": "ipython3",
   "version": "3.11.3"
  },
  "orig_nbformat": 4
 },
 "nbformat": 4,
 "nbformat_minor": 2
}
