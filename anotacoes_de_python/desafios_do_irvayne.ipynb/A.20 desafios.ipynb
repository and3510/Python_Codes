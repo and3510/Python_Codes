{
 "cells": [
  {
   "attachments": {},
   "cell_type": "markdown",
   "metadata": {},
   "source": [
    "Exe 1:"
   ]
  },
  {
   "cell_type": "code",
   "execution_count": null,
   "metadata": {},
   "outputs": [],
   "source": [
    "lista= [1,2,3,4,5]\n",
    "s=0\n",
    "m=1\n",
    "\n",
    "for a in lista:\n",
    "    s=s+a\n",
    "    m=m*a\n",
    "print(s,m,lista)\n",
    "\n",
    "\n"
   ]
  },
  {
   "attachments": {},
   "cell_type": "markdown",
   "metadata": {},
   "source": [
    "Exe 2:"
   ]
  },
  {
   "cell_type": "code",
   "execution_count": 1,
   "metadata": {},
   "outputs": [
    {
     "name": "stdout",
     "output_type": "stream",
     "text": [
      "6\n",
      "1\n",
      "5\n",
      "6\n",
      "1\n",
      "1\n",
      "3\n",
      "1\n",
      "3\n",
      "1\n",
      "3\n",
      "3\n",
      "2\n",
      "4\n",
      "1\n",
      "3\n",
      "4\n",
      "6\n",
      "4\n",
      "1\n",
      "6\n",
      "6\n",
      "6\n",
      "2\n",
      "6\n",
      "6\n",
      "6\n",
      "4\n",
      "6\n",
      "3\n",
      "1\n",
      "6\n",
      "4\n",
      "1\n",
      "4\n",
      "3\n",
      "1\n",
      "5\n",
      "1\n",
      "5\n",
      "2\n",
      "5\n",
      "3\n",
      "2\n",
      "5\n",
      "6\n",
      "5\n",
      "6\n",
      "4\n",
      "4\n",
      "26.0 %\n"
     ]
    }
   ],
   "source": [
    "import random\n",
    "s=0\n",
    "lista=[]\n",
    "for f in range (1,51,1):\n",
    "  dado=random.randint(1,6)\n",
    "  print(dado)\n",
    "  lista.append(dado)\n",
    "  if dado==6:\n",
    "    s=s+1\n",
    "print(s/len(lista)*100,'%')\n",
    "\n",
    "\n",
    "\n"
   ]
  },
  {
   "attachments": {},
   "cell_type": "markdown",
   "metadata": {},
   "source": [
    "Exe: 3"
   ]
  },
  {
   "cell_type": "code",
   "execution_count": null,
   "metadata": {},
   "outputs": [],
   "source": [
    "a11,a12,a13,b11,b12,b13,c11,c12,c13=input().split()\n",
    "d11,d12,d13,e11,e12,e13,f11,f12,f13=input().split()\n",
    "a11=int(a11) \n",
    "a12=int(a12)\n",
    "a13=int(a13)\n",
    "b11=int(a11)\n",
    "b12=int(b12)\n",
    "b13=int(b13)\n",
    "c11=int(c11)\n",
    "c12=int(c12)\n",
    "c13=int(c13)\n",
    "d11=int(d11)\n",
    "d12=int(d12)\n",
    "d13=int(d13)\n",
    "e11=int(e11)\n",
    "e12=int(e12)\n",
    "e13=int(e13)\n",
    "f11=int(f11)\n",
    "f12=int(f12)\n",
    "f13=int(f13)\n",
    "\n",
    "print('{}|{}|{}'.format(a11,a12,a13))\n",
    "print('{}|{}|{}'.format(b11,b12,b13))\n",
    "print('{}|{}|{}'.format(c11,c12,c13))\n",
    "print('{}|{}|{}'.format(d11,d12,d13))\n",
    "print('{}|{}|{}'.format(e11,e12,e13))\n",
    "print('{}|{}|{}'.format(f11,f12,f13))\n",
    "m=0\n",
    "a=[a11,a12,a13,b11,b12,b13,c11,c12,c13,d11,d12,d13,e11,e12,e13,f11,f12,f13]\n",
    "for h in a:\n",
    "    if h>m :\n",
    "        m=h\n",
    "me=a11\n",
    "for h in a:\n",
    "    if me>h:\n",
    "        me=h\n",
    "print(m)\n",
    "print(me)"
   ]
  },
  {
   "attachments": {},
   "cell_type": "markdown",
   "metadata": {},
   "source": [
    "Exe: 4"
   ]
  },
  {
   "cell_type": "code",
   "execution_count": null,
   "metadata": {},
   "outputs": [],
   "source": [
    "dic={'I':1,'V':5,'X':10,'L':50,'C':100,'D':500,'M':1000}\n",
    "\n",
    "a=int(input())\n",
    "n1=a%10\n",
    "n2=a//10\n",
    "n21=n2%10\n",
    "n3=a//100\n",
    "print(n3,n21,n1)\n",
    "print(n3*'C'+n21*'X'+n1*'I')\n",
    "\n",
    "\n",
    "\n",
    "\n",
    "\n",
    "   "
   ]
  },
  {
   "attachments": {},
   "cell_type": "markdown",
   "metadata": {},
   "source": [
    "Exe: 5"
   ]
  },
  {
   "cell_type": "code",
   "execution_count": null,
   "metadata": {},
   "outputs": [],
   "source": [
    "L=[1,10,3,4,5,45,7,8,3,4]\n",
    "\n",
    "for h in L:\n",
    "    if h%2==0:  \n",
    "      L.remove(h) \n",
    "      print(h)\n",
    "print(L)"
   ]
  },
  {
   "attachments": {},
   "cell_type": "markdown",
   "metadata": {},
   "source": [
    "Exe: 6"
   ]
  },
  {
   "cell_type": "code",
   "execution_count": null,
   "metadata": {},
   "outputs": [],
   "source": [
    "P1=[2,4,5,7,8,9,10,3,4,5,7,8]\n",
    "P2=[3,6,7,8,9,2,4,6,7,7,8,10]\n",
    "s=0\n",
    "ç=0\n",
    "for h in P1:\n",
    "    s+=h\n",
    "m1=s/len(P1)\n",
    "\n",
    "for k in P2:\n",
    "    ç+=k\n",
    "m2=ç/len(P2)\n",
    "\n",
    "print(m1,m2)\n",
    "if m1>m2:\n",
    "    print('melhor de P1',m1)\n",
    "else:\n",
    "    print('melhor de P2',m2)\n",
    "\n",
    "\n"
   ]
  },
  {
   "attachments": {},
   "cell_type": "markdown",
   "metadata": {},
   "source": [
    "Exe: 7"
   ]
  },
  {
   "cell_type": "code",
   "execution_count": null,
   "metadata": {},
   "outputs": [],
   "source": [
    "L1=[1,2,5,6,3,43,66,7,8]\n",
    "L2=[55,77,888,9900]\n",
    "L3=L1+L2\n",
    "print(L3)\n",
    "print(sorted(L3))\n",
    "\n"
   ]
  },
  {
   "attachments": {},
   "cell_type": "markdown",
   "metadata": {},
   "source": [
    "Exe: 8"
   ]
  },
  {
   "cell_type": "code",
   "execution_count": 28,
   "metadata": {},
   "outputs": [
    {
     "name": "stdout",
     "output_type": "stream",
     "text": [
      "3\n",
      "4\n",
      "5\n"
     ]
    }
   ],
   "source": [
    "e={1,2,4,657,5,8,3,5}\n",
    "f={4,5,7,98,3,5,57,56}\n",
    "for h in e:\n",
    "    for k in f:\n",
    "        if h==k:\n",
    "            print(h)\n"
   ]
  },
  {
   "attachments": {},
   "cell_type": "markdown",
   "metadata": {},
   "source": [
    "Exe: 9"
   ]
  },
  {
   "cell_type": "code",
   "execution_count": null,
   "metadata": {},
   "outputs": [],
   "source": [
    "Esto=['arroz','feijao','carne','tomate','peixe']\n",
    "print(Esto)\n",
    "print('[1] Adicionar produto')\n",
    "print('[2] Remover produto')\n",
    "print('[3] Buscar produto')\n",
    "print('[4] Desligar')\n",
    "while True:\n",
    "  s=int(input())\n",
    "  if s==1:\n",
    "    a=input()\n",
    "    Esto.append(a)\n",
    "  elif s==2:\n",
    "    a=input()\n",
    "    Esto.remove(a)\n",
    "  elif s==3:\n",
    "    a=input()\n",
    "    if a in Esto:\n",
    "      print('Sim')\n",
    "    else:\n",
    "      print('Nao')\n",
    "  elif s==4:\n",
    "    break\n",
    "print(Esto)\n",
    "\n",
    "\n"
   ]
  },
  {
   "attachments": {},
   "cell_type": "markdown",
   "metadata": {},
   "source": [
    "Exe: 10"
   ]
  },
  {
   "cell_type": "code",
   "execution_count": null,
   "metadata": {},
   "outputs": [],
   "source": []
  },
  {
   "attachments": {},
   "cell_type": "markdown",
   "metadata": {},
   "source": [
    "Exe: 11"
   ]
  },
  {
   "cell_type": "code",
   "execution_count": 27,
   "metadata": {},
   "outputs": [
    {
     "name": "stdout",
     "output_type": "stream",
     "text": [
      "6\n",
      "1\n",
      "5\n",
      "3\n",
      "3\n",
      "3\n",
      "4\n",
      "6\n",
      "6\n",
      "1\n",
      "6\n",
      "3\n",
      "3\n",
      "6\n",
      "4\n",
      "2\n",
      "6\n",
      "1\n",
      "5\n",
      "3\n",
      "6\n",
      "1\n",
      "1\n",
      "1\n",
      "6\n",
      "3\n",
      "4\n",
      "3\n",
      "2\n",
      "3\n",
      "5\n",
      "4\n",
      "5\n",
      "5\n",
      "2\n",
      "6\n",
      "6\n",
      "1\n",
      "3\n",
      "6\n",
      "2\n",
      "4\n",
      "3\n",
      "1\n",
      "6\n",
      "2\n",
      "3\n",
      "3\n",
      "3\n",
      "6\n",
      "6\n",
      "4\n",
      "1\n",
      "1\n",
      "5\n",
      "2\n",
      "1\n",
      "3\n",
      "1\n",
      "6\n",
      "3\n",
      "4\n",
      "3\n",
      "5\n",
      "1\n",
      "2\n",
      "2\n",
      "6\n",
      "1\n",
      "3\n",
      "1\n",
      "4\n",
      "3\n",
      "4\n",
      "6\n",
      "3\n",
      "1\n",
      "3\n",
      "6\n",
      "6\n",
      "2\n",
      "5\n",
      "3\n",
      "5\n",
      "3\n",
      "6\n",
      "4\n",
      "2\n",
      "2\n",
      "1\n",
      "5\n",
      "3\n",
      "2\n",
      "5\n",
      "3\n",
      "4\n",
      "2\n",
      "2\n",
      "1\n",
      "1\n",
      "[6, 1, 5, 3, 3, 3, 4, 6, 6, 1, 6, 3, 3, 6, 4, 2, 6, 1, 5, 3, 6, 1, 1, 1, 6, 3, 4, 3, 2, 3, 5, 4, 5, 5, 2, 6, 6, 1, 3, 6, 2, 4, 3, 1, 6, 2, 3, 3, 3, 6, 6, 4, 1, 1, 5, 2, 1, 3, 1, 6, 3, 4, 3, 5, 1, 2, 2, 6, 1, 3, 1, 4, 3, 4, 6, 3, 1, 3, 6, 6, 2, 5, 3, 5, 3, 6, 4, 2, 2, 1, 5, 3, 2, 5, 3, 4, 2, 2, 1, 1]\n"
     ]
    }
   ],
   "source": [
    "import random\n",
    "Lista=[]\n",
    "for k in range(1,101,1):\n",
    "    a=random.randint(1,6)\n",
    "    print(a)\n",
    "    Lista.append(a)\n",
    "print(Lista)"
   ]
  },
  {
   "attachments": {},
   "cell_type": "markdown",
   "metadata": {},
   "source": [
    "Exe: 12"
   ]
  },
  {
   "cell_type": "code",
   "execution_count": null,
   "metadata": {},
   "outputs": [],
   "source": [
    "import brazilcep\n",
    "cep=str(input('digite seu cep:'))\n",
    "address = brazilcep.get_address_from_cep(cep)\n",
    "print(address)"
   ]
  },
  {
   "attachments": {},
   "cell_type": "markdown",
   "metadata": {},
   "source": [
    "Exe: 13"
   ]
  },
  {
   "cell_type": "code",
   "execution_count": null,
   "metadata": {},
   "outputs": [],
   "source": []
  },
  {
   "attachments": {},
   "cell_type": "markdown",
   "metadata": {},
   "source": [
    "Exe: 14"
   ]
  },
  {
   "cell_type": "code",
   "execution_count": 1,
   "metadata": {},
   "outputs": [
    {
     "name": "stdout",
     "output_type": "stream",
     "text": [
      "leao\n",
      "Acabou o jogo! Voce perdeu!\n",
      "acabou o jogo\n"
     ]
    }
   ],
   "source": [
    "import random\n",
    "Lista=['cavalo','macaco','gato','cachorro','galinha','leao','tigre']\n",
    "random.shuffle(Lista)\n",
    "print(Lista[0])\n",
    "p=len(Lista[0])\n",
    "c=0\n",
    "e=0\n",
    "while True:\n",
    "    s=str(input())\n",
    "    if s=='1':\n",
    "        break\n",
    "    elif s!='1':\n",
    "        for q in Lista[0]:\n",
    "            if q==s:\n",
    "                c+=1\n",
    "                if c==len(Lista[0]):\n",
    "                    print('acabou o jogo')\n",
    "                    break\n",
    "            elif q!=s:\n",
    "                e+=1\n",
    "                if e==6:\n",
    "                    print('Acabou o jogo! Voce perdeu!')\n",
    "                    break\n",
    "\n",
    "            \n",
    "            \n",
    "        \n",
    "\n",
    "\n"
   ]
  }
 ],
 "metadata": {
  "kernelspec": {
   "display_name": "Python 3",
   "language": "python",
   "name": "python3"
  },
  "language_info": {
   "codemirror_mode": {
    "name": "ipython",
    "version": 3
   },
   "file_extension": ".py",
   "mimetype": "text/x-python",
   "name": "python",
   "nbconvert_exporter": "python",
   "pygments_lexer": "ipython3",
   "version": "3.11.4"
  },
  "orig_nbformat": 4
 },
 "nbformat": 4,
 "nbformat_minor": 2
}
