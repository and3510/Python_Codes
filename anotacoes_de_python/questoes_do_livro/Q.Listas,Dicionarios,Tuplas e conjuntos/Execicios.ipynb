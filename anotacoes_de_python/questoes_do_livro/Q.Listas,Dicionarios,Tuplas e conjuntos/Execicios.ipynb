{
 "cells": [
  {
   "attachments": {},
   "cell_type": "markdown",
   "metadata": {},
   "source": [
    "Exe 6.1\n"
   ]
  },
  {
   "cell_type": "code",
   "execution_count": null,
   "metadata": {},
   "outputs": [],
   "source": [
    "notas= [0,0,0,0,0,0,0]\n",
    "soma=0\n",
    "x=0\n",
    "while x<len(notas):\n",
    "    notas[x]=float(input())\n",
    "    soma+=notas[x]\n",
    "    x+=1\n",
    "\n",
    "x=0\n",
    "\n",
    "while x<len(notas):\n",
    "    print(notas[x])\n",
    "    x+=1\n",
    "print(soma/x)"
   ]
  },
  {
   "cell_type": "markdown",
   "metadata": {},
   "source": [
    "Exe 6.2"
   ]
  },
  {
   "cell_type": "code",
   "execution_count": null,
   "metadata": {},
   "outputs": [],
   "source": [
    "\n",
    "a=[]\n",
    "b=[]\n",
    "lista3=[]\n",
    "x=0\n",
    "y=0\n",
    "while True:\n",
    "    h=int(input())\n",
    "    if h==-1:\n",
    "        break\n",
    "    else:\n",
    "        a.append(h)\n",
    "        k=int(input())\n",
    "        if k==-1:\n",
    "            break\n",
    "        else:\n",
    "           b.append(k)\n",
    "\n",
    "for q in range(0,len(b),1):\n",
    "    if b[q] in a:\n",
    "        b.pop(q)\n",
    "\n",
    "lista3.extend(a)\n",
    "lista3.extend(b)\n",
    "print(lista3)"
   ]
  },
  {
   "attachments": {},
   "cell_type": "markdown",
   "metadata": {},
   "source": [
    "Exe 6.4"
   ]
  },
  {
   "cell_type": "code",
   "execution_count": null,
   "metadata": {},
   "outputs": [],
   "source": [
    "L=[]\n",
    "f=L.pop(0)\n",
    "print(f)"
   ]
  },
  {
   "attachments": {},
   "cell_type": "markdown",
   "metadata": {},
   "source": [
    "Exe 6.5"
   ]
  },
  {
   "cell_type": "code",
   "execution_count": null,
   "metadata": {},
   "outputs": [],
   "source": [
    "q=10\n",
    "f=10\n",
    "w=list(range(1,q+1))\n",
    "ç=list(range(1,f+1))\n",
    "while True:\n",
    "    o=input()\n",
    "    if o=='A':\n",
    "        if len(w)>0:\n",
    "            g=w.pop(0)\n",
    "        else:\n",
    "            print('Fila vazia!')\n",
    "    elif o=='B':\n",
    "        if len(ç)>0:\n",
    "            l=ç.pop(0)\n",
    "    elif o=='F':\n",
    "        q+=1\n",
    "        w.append(q)\n",
    "    elif o=='G':\n",
    "        f+=1\n",
    "        ç.append(f)\n",
    "    elif o=='S':\n",
    "        break\n",
    "    else:\n",
    "        print('Digite A ou F ou S!')\n",
    "print(len(w))\n",
    "print(len(ç))\n",
    "\n"
   ]
  },
  {
   "attachments": {},
   "cell_type": "markdown",
   "metadata": {},
   "source": [
    "Exe 6.9"
   ]
  },
  {
   "cell_type": "code",
   "execution_count": null,
   "metadata": {},
   "outputs": [],
   "source": [
    "L=[1,2,5,7]\n",
    "p=int(input())\n",
    "q=int(input())\n",
    "x=0\n",
    "b=1\n",
    "ç=1\n",
    "y=0\n",
    "for h in range (x,len(L),1):\n",
    "    if L[h]==p :\n",
    "        break\n",
    "    b+=1\n",
    "for d in range (y,len(L),1):\n",
    "    if L[d]==q:\n",
    "        break\n",
    "    ç+=1\n",
    "if L[h]==p and L[d]==q:\n",
    "    print('{} achado na posiçao {} e {} achado na posiçao {}'.format(p,h+1,q,d+1))\n",
    "if b<ç:\n",
    "    print('{} foi achdo primeiro e {} foi achdo depois'.format(p,q))    \n",
    "elif ç<b:\n",
    "    print('{} foi achado primeiro e {} foi achado depois'.format(q,p))\n",
    "elif b==ç:\n",
    "    print('os dois foram achados ao mesmo tempo')\n",
    "\n",
    "else:\n",
    "    print('{} e {} nao encontrados'.format(p,q))\n"
   ]
  },
  {
   "attachments": {},
   "cell_type": "markdown",
   "metadata": {},
   "source": [
    "Exe 6.12\n"
   ]
  },
  {
   "cell_type": "code",
   "execution_count": 5,
   "metadata": {},
   "outputs": [
    {
     "name": "stdout",
     "output_type": "stream",
     "text": [
      "888888 -5\n"
     ]
    }
   ],
   "source": [
    "L=[-5,54545,888888,24]\n",
    "men=L[0]\n",
    "max=L[0]\n",
    "for e in L:\n",
    "    if e<men:\n",
    "        men=e\n",
    "    if e>max:\n",
    "        max=e\n",
    "print(max,men)"
   ]
  },
  {
   "attachments": {},
   "cell_type": "markdown",
   "metadata": {},
   "source": [
    "Exe 6.19"
   ]
  },
  {
   "cell_type": "code",
   "execution_count": 24,
   "metadata": {},
   "outputs": [
    {
     "name": "stdout",
     "output_type": "stream",
     "text": [
      "[0, 2, 3, 4]\n",
      "houve 10 adicoes e 9 removidos\n",
      "[56, 5, 97, 6, -1]\n"
     ]
    }
   ],
   "source": [
    "a= [0,2,3,4]\n",
    "c=0\n",
    "d=0\n",
    "print(a)\n",
    "for g in range(0,999,1):\n",
    "    h=int(input())\n",
    "    if h not in a:\n",
    "        a.append(h)\n",
    "        c+=1\n",
    "    else:\n",
    "        a.remove(h)\n",
    "        d+=1\n",
    "    if h==-1:\n",
    "        break \n",
    "    \n",
    "        \n",
    "\n",
    "print('houve {} adicoes e {} removidos'.format(c,d))       \n",
    "print(a)\n",
    "\n",
    "\n",
    "\n",
    "\n",
    "\n",
    "\n",
    "\n"
   ]
  }
 ],
 "metadata": {
  "kernelspec": {
   "display_name": "Python 3",
   "language": "python",
   "name": "python3"
  },
  "language_info": {
   "codemirror_mode": {
    "name": "ipython",
    "version": 3
   },
   "file_extension": ".py",
   "mimetype": "text/x-python",
   "name": "python",
   "nbconvert_exporter": "python",
   "pygments_lexer": "ipython3",
   "version": "3.11.3"
  },
  "orig_nbformat": 4
 },
 "nbformat": 4,
 "nbformat_minor": 2
}
