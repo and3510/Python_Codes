{
 "cells": [
  {
   "cell_type": "code",
   "execution_count": 16,
   "metadata": {},
   "outputs": [
    {
     "data": {
      "text/plain": [
       "False"
      ]
     },
     "execution_count": 16,
     "metadata": {},
     "output_type": "execute_result"
    }
   ],
   "source": [
    "import chess\n",
    "board = chess.Board()\n",
    "board.legal_moves\n",
    "\n",
    "\n",
    "# board.is_checkmate() \n",
    "# board.is_stalemate() \n",
    "# board.is_check() \n",
    "# board.is_fivefold_repetition() \n",
    "# oard.is_seventyfive_moves() \n",
    "# len(board.pieces(chess.PAWN, chess.WHITE))\n",
    "# board.pieces(chess.PAWN, chess.BLACK)\n",
    "# for i in board.pieces(chess.PAWN, chess.WHITE):\n"
   ]
  }
 ],
 "metadata": {
  "kernelspec": {
   "display_name": "Python 3",
   "language": "python",
   "name": "python3"
  },
  "language_info": {
   "codemirror_mode": {
    "name": "ipython",
    "version": 3
   },
   "file_extension": ".py",
   "mimetype": "text/x-python",
   "name": "python",
   "nbconvert_exporter": "python",
   "pygments_lexer": "ipython3",
   "version": "3.8.10"
  },
  "orig_nbformat": 4
 },
 "nbformat": 4,
 "nbformat_minor": 2
}
