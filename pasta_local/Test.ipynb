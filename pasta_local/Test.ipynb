{
 "cells": [
  {
   "attachments": {},
   "cell_type": "markdown",
   "metadata": {},
   "source": [
    "Exe=1"
   ]
  },
  {
   "cell_type": "code",
   "execution_count": null,
   "metadata": {},
   "outputs": [],
   "source": [
    "y=int(input())\n",
    "x=int(input())\n",
    "s=0\n",
    "\n",
    "for d in (y,x,1):\n",
    "    if d%2==0:\n",
    "        s=s+d\n",
    "\n",
    "      \n",
    "print(s)"
   ]
  },
  {
   "attachments": {},
   "cell_type": "markdown",
   "metadata": {},
   "source": [
    "Exe=3"
   ]
  },
  {
   "cell_type": "code",
   "execution_count": null,
   "metadata": {},
   "outputs": [],
   "source": [
    "altura=int(input())\n",
    "tri=''\n",
    "for x in range(altura):\n",
    "    tri= tri+'1'\n",
    "    print(tri,'\\n',end='')\n",
    "    \n",
    "\n"
   ]
  },
  {
   "attachments": {},
   "cell_type": "markdown",
   "metadata": {},
   "source": [
    "Exe 5"
   ]
  },
  {
   "cell_type": "code",
   "execution_count": null,
   "metadata": {},
   "outputs": [],
   "source": [
    "l=int(input())\n",
    "b=int(input())\n",
    "s=1\n",
    "for g in range(1,b+1,):\n",
    "    s=s*l\n",
    "print(s)"
   ]
  },
  {
   "attachments": {},
   "cell_type": "markdown",
   "metadata": {},
   "source": [
    "Exe 7"
   ]
  },
  {
   "cell_type": "code",
   "execution_count": null,
   "metadata": {},
   "outputs": [],
   "source": [
    "p=0\n",
    "k=0\n",
    "for v in range(1,16):\n",
    "    j=int(input())\n",
    "\n",
    "    if j==1:\n",
    "        p+=1\n",
    "    elif j==2:\n",
    "        k+=1\n",
    "print(p,k)"
   ]
  },
  {
   "attachments": {},
   "cell_type": "markdown",
   "metadata": {},
   "source": [
    "Exe 9"
   ]
  },
  {
   "cell_type": "code",
   "execution_count": null,
   "metadata": {},
   "outputs": [],
   "source": [
    "m=0\n",
    "for ç in range(1,999):\n",
    "    k=int(input())\n",
    "\n",
    "    if k==-1:\n",
    "        break\n",
    "    elif k>m:\n",
    "        m=k\n",
    "print(m,'maior numero')\n",
    "    \n",
    "        \n"
   ]
  },
  {
   "attachments": {},
   "cell_type": "markdown",
   "metadata": {},
   "source": [
    "exe 11"
   ]
  },
  {
   "cell_type": "code",
   "execution_count": null,
   "metadata": {},
   "outputs": [],
   "source": [
    "s=0\n",
    "p=int(input())\n",
    "m=1\n",
    "for n in range(1,p+1,1):\n",
    "    m=m+2\n",
    "    s=s+(n/m)\n",
    "print(s)\n",
    "\n",
    "    "
   ]
  },
  {
   "attachments": {},
   "cell_type": "markdown",
   "metadata": {},
   "source": [
    "Exe 15"
   ]
  },
  {
   "cell_type": "code",
   "execution_count": null,
   "metadata": {},
   "outputs": [],
   "source": [
    "import random\n",
    "a=int(input())\n",
    "\n",
    "for k in range (0,a):\n",
    "    h=random.randint(0,999)\n",
    "    m=random.randint(0,60)\n",
    "    print(h,m)\n",
    "\n"
   ]
  },
  {
   "cell_type": "code",
   "execution_count": null,
   "metadata": {},
   "outputs": [],
   "source": [
    "agenda={}\n",
    "while True:\n",
    "    a=input('digite sau opçao:\\n'\n",
    "            '[1] - Cadastrar contato:\\n'\n",
    "            '[2] - listar todos os contatos')\n",
    "    if a=='1':\n",
    "        nome=input()\n",
    "        tel=input()\n",
    "        if nome in agenda:\n",
    "            agenda[nome]=tel\n",
    "        print(agenda[nome])"
   ]
  },
  {
   "cell_type": "code",
   "execution_count": null,
   "metadata": {},
   "outputs": [],
   "source": [
    "def soma(a,b):\n",
    "    print('{} + {} é'.format(a,b))\n",
    "    s=a+b\n",
    "    print(s)\n",
    "\n",
    "soma(1,3)"
   ]
  },
  {
   "cell_type": "code",
   "execution_count": null,
   "metadata": {},
   "outputs": [],
   "source": [
    "nomes=['Maria','Joao','Ana','Pedro','Joao','Paulo']\n",
    "c=set()\n",
    "d=set()\n",
    "for a in nomes:\n",
    "    c.add(a)\n",
    "    print(c)\n",
    "    h='aaaa'\n",
    "    for g in c:\n",
    "        if len(g)==4:\n",
    "            d.add(g)\n",
    "\n",
    "print(d)\n",
    "            \n",
    "        \n",
    "\n",
    "\n"
   ]
  },
  {
   "cell_type": "code",
   "execution_count": null,
   "metadata": {},
   "outputs": [],
   "source": [
    "b=[]\n",
    "c=[]\n",
    "while True:\n",
    "    a=int(input())\n",
    "    b.append(a)\n",
    "    if a%2==0:\n",
    "        c.append(a)\n",
    "    elif a==999:\n",
    "        break\n",
    "print(b)\n",
    "print(c)"
   ]
  },
  {
   "cell_type": "code",
   "execution_count": 2,
   "metadata": {},
   "outputs": [
    {
     "name": "stdout",
     "output_type": "stream",
     "text": [
      "minha idade é 34 e meu nome é anderson e minha altura é 2.34\n"
     ]
    }
   ],
   "source": [
    "name=\"anderson\"\n",
    "idade=34\n",
    "altura=2.34\n",
    "print(\"minha idade é {} e meu nome é {} e minha altura é {}\".format(idade,name,altura))"
   ]
  },
  {
   "cell_type": "code",
   "execution_count": 2,
   "metadata": {},
   "outputs": [
    {
     "name": "stdout",
     "output_type": "stream",
     "text": [
      "arroz\n"
     ]
    }
   ],
   "source": [
    "print(\"arroz\")\n",
    "And =\"anderson\"\n",
    "gust=34"
   ]
  }
 ],
 "metadata": {
  "kernelspec": {
   "display_name": "Python 3",
   "language": "python",
   "name": "python3"
  },
  "language_info": {
   "codemirror_mode": {
    "name": "ipython",
    "version": 3
   },
   "file_extension": ".py",
   "mimetype": "text/x-python",
   "name": "python",
   "nbconvert_exporter": "python",
   "pygments_lexer": "ipython3",
   "version": "3.8.10"
  },
  "orig_nbformat": 4
 },
 "nbformat": 4,
 "nbformat_minor": 2
}
